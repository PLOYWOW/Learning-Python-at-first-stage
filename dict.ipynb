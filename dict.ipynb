{
 "cells": [
  {
   "cell_type": "code",
   "execution_count": 15,
   "metadata": {},
   "outputs": [
    {
     "name": "stdout",
     "output_type": "stream",
     "text": [
      "Oum\n",
      "Cat\n",
      "Name is in Dict\n",
      "Name = Oum\n",
      "Oum is in Dict\n"
     ]
    }
   ],
   "source": [
    "dict = {\n",
    "    \"Name\" : \"Oum\",\n",
    "    \"Age\" : \"25\",\n",
    "    \"Gender\" : \"Female\",\n",
    "    \"List\" : [\"Cat\", \"Dog\"]\n",
    "}\n",
    "\n",
    "print(dict[\"Name\"])\n",
    "print(dict[\"List\"][0])\n",
    "\n",
    "x = input()\n",
    "\n",
    "if x in dict:\n",
    "    print(x,\"is in Dict\")\n",
    "    print(x,\"=\",dict[x])\n",
    "else:\n",
    "    print(x,\"is not in Dict\")\n",
    "\n",
    "y = input()\n",
    "\n",
    "if y in dict.values():\n",
    "    print(y,\"is in Dict\")\n",
    "    #print(y,\"=\",dict[x])\n",
    "else:\n",
    "    print(y,\"is not in Dict\")\n"
   ]
  }
 ],
 "metadata": {
  "interpreter": {
   "hash": "d53e1329bae4e68341077a655bad661457cf9a5240465b2838631e5d054e249f"
  },
  "kernelspec": {
   "display_name": "Python 3.9.6 64-bit ('lingenv': venv)",
   "name": "python3"
  },
  "language_info": {
   "codemirror_mode": {
    "name": "ipython",
    "version": 3
   },
   "file_extension": ".py",
   "mimetype": "text/x-python",
   "name": "python",
   "nbconvert_exporter": "python",
   "pygments_lexer": "ipython3",
   "version": "3.9.6"
  },
  "orig_nbformat": 4
 },
 "nbformat": 4,
 "nbformat_minor": 2
}
