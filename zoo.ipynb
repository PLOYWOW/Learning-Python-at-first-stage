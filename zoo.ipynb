{
 "cells": [
  {
   "cell_type": "code",
   "execution_count": null,
   "metadata": {},
   "outputs": [],
   "source": [
    "class Animal:\n",
    "    #constructor\n",
    "    def __init__(self, property, function):\n",
    "        self.p = property\n",
    "        self.f = function\n",
    "\n",
    "class Place:\n",
    "    #constructor\n",
    "    def __init__(self, property, function):\n",
    "        self.p = property\n",
    "        self.f = function\n",
    "    \n",
    "\n",
    "class People:\n",
    "    #constructor\n",
    "    def __init__(self, property, function):\n",
    "        self.p = property\n",
    "        self.f = function\n",
    "    \n",
    "\n",
    "#Animal\n",
    "#สัตว์ปีก\n",
    "    Bird = Animal(\"มีปีก\", \"บินได้\")\n",
    "\n",
    "#สัตว์บก\n",
    "    Tiger = Animal(\"สี่เท้า\", \"กินเนื้อ\")\n",
    "\n",
    "#สัตว์น้ำ\n",
    "    Dolphin = Animal(\"มีครีบ\", \"ร้องได้\")\n",
    "\n",
    "#Place\n",
    "#Foodland\n",
    "    (\"หน้าร้านสีแดง\", \"ขายไก่\") = KFC\n",
    "    KFC.propery = \"หน้าร้านสีแดง\"\n",
    "\n",
    "#Fun park\n",
    "    FerrisWheel= Place(มีขนาดใหญ่, พาขึ้นที่สูง)\n",
    "\n",
    "#People\n",
    "    Feeder = People()\n",
    "\n"
   ]
  }
 ],
 "metadata": {
  "language_info": {
   "name": "python"
  },
  "orig_nbformat": 4
 },
 "nbformat": 4,
 "nbformat_minor": 2
}
