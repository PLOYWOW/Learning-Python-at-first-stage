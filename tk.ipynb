{
 "cells": [
  {
   "cell_type": "code",
   "execution_count": 12,
   "metadata": {},
   "outputs": [],
   "source": [
    "from tkinter import *\n",
    "\n",
    "window = Tk()\n",
    "\n",
    "window.title(\"hello world\")\n",
    "window.geometry(\"400x400\")\n",
    "\n",
    "lb = Label(window, text=\"Hello guy\", font=(\"Arial Bold\", 50))\n",
    "lb.grid(column=0, row=0)\n",
    "\n",
    "txt = Entry(window, width=30, state = \"disable\")\n",
    "txt.grid(column=0, row=2)\n",
    "\n",
    "def click():\n",
    "    x = \"Hello\" + txt.get()\n",
    "\n",
    "    lb.configure(text= x)\n",
    "\n",
    "bt = Button(window, text=\"Click me\", bg=\"red\", fg=\"blue\", command=click)\n",
    "bt.grid(column=0,row=1)\n",
    "\n",
    "window.mainloop()"
   ]
  }
 ],
 "metadata": {
  "interpreter": {
   "hash": "d53e1329bae4e68341077a655bad661457cf9a5240465b2838631e5d054e249f"
  },
  "kernelspec": {
   "display_name": "Python 3.9.6 64-bit ('lingenv': venv)",
   "name": "python3"
  },
  "language_info": {
   "codemirror_mode": {
    "name": "ipython",
    "version": 3
   },
   "file_extension": ".py",
   "mimetype": "text/x-python",
   "name": "python",
   "nbconvert_exporter": "python",
   "pygments_lexer": "ipython3",
   "version": "3.9.6"
  },
  "orig_nbformat": 4
 },
 "nbformat": 4,
 "nbformat_minor": 2
}
