{
 "cells": [
  {
   "cell_type": "code",
   "execution_count": 10,
   "metadata": {},
   "outputs": [
    {
     "name": "stdout",
     "output_type": "stream",
     "text": [
      "James\n",
      "Smith\n",
      "James Smith\n"
     ]
    }
   ],
   "source": [
    "jane = {\n",
    "  \"people\" : [\n",
    "    {\n",
    "       \"firstName\": \"Joe\",\n",
    "       \"lastName\": \"Jackson\",\n",
    "       \"gender\": \"male\",\n",
    "       \"age\": 28,\n",
    "       \"number\": \"7349282382\"\n",
    "    },\n",
    "    {\n",
    "       \"firstName\": \"James\",\n",
    "       \"lastName\": \"Smith\",\n",
    "       \"gender\": \"male\",\n",
    "       \"age\": 32,\n",
    "       \"number\": \"5678568567\"\n",
    "    },\n",
    "    {\n",
    "       \"firstName\": \"Emily\",\n",
    "       \"lastName\": \"Jones\",\n",
    "       \"gender\": \"female\",\n",
    "       \"age\": 24,\n",
    "       \"number\": \"456754675\"\n",
    "    }\n",
    "  ]\n",
    "}\n",
    "\n",
    "print(jane[\"people\"][1][\"firstName\"])\n",
    "print(jane[\"people\"][1][\"lastName\"])\n",
    "\n",
    "print(jane[\"people\"][1][\"firstName\"],jane[\"people\"][1][\"lastName\"])"
   ]
  }
 ],
 "metadata": {
  "interpreter": {
   "hash": "d53e1329bae4e68341077a655bad661457cf9a5240465b2838631e5d054e249f"
  },
  "kernelspec": {
   "display_name": "Python 3.9.6 64-bit ('lingenv': venv)",
   "name": "python3"
  },
  "language_info": {
   "codemirror_mode": {
    "name": "ipython",
    "version": 3
   },
   "file_extension": ".py",
   "mimetype": "text/x-python",
   "name": "python",
   "nbconvert_exporter": "python",
   "pygments_lexer": "ipython3",
   "version": "3.9.6"
  },
  "orig_nbformat": 4
 },
 "nbformat": 4,
 "nbformat_minor": 2
}
