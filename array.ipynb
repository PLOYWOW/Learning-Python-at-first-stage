{
 "cells": [
  {
   "cell_type": "code",
   "execution_count": 25,
   "metadata": {},
   "outputs": [
    {
     "name": "stdout",
     "output_type": "stream",
     "text": [
      "2\n",
      "1\n"
     ]
    }
   ],
   "source": [
    "import numpy as np\n",
    "\n",
    "array2 = np.array([[1,2,3],[4,5,6]])\n",
    "array3 = np.array([[[1,2,3],[4,5,6],[7,8,9]]])\n",
    "\n",
    "print(len(array2))\n",
    "print(len(array3))\n",
    "\n",
    "# for x in range(2):\n",
    "#     for y in range(3):\n",
    "#         print(array2[x,y])\n",
    "\n",
    "#print(array2[1,1:1,2])\n",
    "\n",
    "# for a in range(3):\n",
    "#     for b in range(a+1):\n",
    "#         print(\"0\",end=\"\")\n",
    "#     print(array3[0,a])\n",
    "\n",
    "# a = 0\n",
    "# b = 0\n",
    "\n",
    "# for a in range(3):\n",
    "#     for b in range()\n"
   ]
  }
 ],
 "metadata": {
  "interpreter": {
   "hash": "d53e1329bae4e68341077a655bad661457cf9a5240465b2838631e5d054e249f"
  },
  "kernelspec": {
   "display_name": "Python 3.9.6 64-bit ('lingenv': venv)",
   "name": "python3"
  },
  "language_info": {
   "codemirror_mode": {
    "name": "ipython",
    "version": 3
   },
   "file_extension": ".py",
   "mimetype": "text/x-python",
   "name": "python",
   "nbconvert_exporter": "python",
   "pygments_lexer": "ipython3",
   "version": "3.9.6"
  },
  "orig_nbformat": 4
 },
 "nbformat": 4,
 "nbformat_minor": 2
}
