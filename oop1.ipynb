{
 "cells": [
  {
   "cell_type": "code",
   "execution_count": null,
   "metadata": {},
   "outputs": [],
   "source": [
    "class Complex:\n",
    "    #constructor\n",
    "    def _init_(self,real,imaginary):\n",
    "        self.r = real\n",
    "        self.i = imaginary\n",
    "\n",
    "x = Complex(3.0,-4.5) #instantiate\n",
    "print(x.r,x.i)"
   ]
  }
 ],
 "metadata": {
  "language_info": {
   "name": "python"
  },
  "orig_nbformat": 4
 },
 "nbformat": 4,
 "nbformat_minor": 2
}
